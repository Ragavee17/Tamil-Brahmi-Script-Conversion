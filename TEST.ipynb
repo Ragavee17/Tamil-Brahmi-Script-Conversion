{
  "nbformat": 4,
  "nbformat_minor": 0,
  "metadata": {
    "colab": {
      "name": "Brahmi_uyir_test.ipynb",
      "provenance": [],
      "collapsed_sections": []
    },
    "kernelspec": {
      "name": "python3",
      "display_name": "Python 3"
    },
    "language_info": {
      "name": "python"
    }
  },
  "cells": [
    {
      "cell_type": "code",
      "metadata": {
        "colab": {
          "base_uri": "https://localhost:8080/"
        },
        "id": "6w9CPQM5xu8_",
        "outputId": "572ca76a-5d22-4fc8-c4eb-f9398cd61b09"
      },
      "source": [
        "from google.colab import drive\n",
        "drive.mount('/content/drive')"
      ],
      "execution_count": null,
      "outputs": [
        {
          "output_type": "stream",
          "name": "stdout",
          "text": [
            "Drive already mounted at /content/drive; to attempt to forcibly remount, call drive.mount(\"/content/drive\", force_remount=True).\n"
          ]
        }
      ]
    },
    {
      "cell_type": "code",
      "metadata": {
        "id": "1jYYU1ppmsL7"
      },
      "source": [
        "import torch\n",
        "from PIL import Image"
      ],
      "execution_count": null,
      "outputs": []
    },
    {
      "cell_type": "code",
      "metadata": {
        "colab": {
          "base_uri": "https://localhost:8080/"
        },
        "id": "joAL01H1msoo",
        "outputId": "6a1f2323-d6d3-490a-c98d-bfd177125d14"
      },
      "source": [
        "model = torch.hub.load('ultralytics/yolov5', 'custom', path='/content/drive/MyDrive/brahmi_uyir_weigths/best.pt')"
      ],
      "execution_count": null,
      "outputs": [
        {
          "output_type": "stream",
          "name": "stderr",
          "text": [
            "Using cache found in /root/.cache/torch/hub/ultralytics_yolov5_master\n",
            "YOLOv5 🚀 2021-9-16 torch 1.9.0+cu102 CPU\n",
            "\n",
            "Fusing layers... \n",
            "Model Summary: 224 layers, 7086274 parameters, 0 gradients\n",
            "Adding AutoShape... \n"
          ]
        }
      ]
    },
    {
      "cell_type": "code",
      "metadata": {
        "colab": {
          "base_uri": "https://localhost:8080/"
        },
        "id": "vmG5tVzeszSR",
        "outputId": "12d15900-5644-4016-ff37-e1f933902d68"
      },
      "source": [
        "!pip install googletrans==3.1.0a0"
      ],
      "execution_count": null,
      "outputs": [
        {
          "output_type": "stream",
          "name": "stdout",
          "text": [
            "Requirement already satisfied: googletrans==3.1.0a0 in /usr/local/lib/python3.7/dist-packages (3.1.0a0)\n",
            "Requirement already satisfied: httpx==0.13.3 in /usr/local/lib/python3.7/dist-packages (from googletrans==3.1.0a0) (0.13.3)\n",
            "Requirement already satisfied: httpcore==0.9.* in /usr/local/lib/python3.7/dist-packages (from httpx==0.13.3->googletrans==3.1.0a0) (0.9.1)\n",
            "Requirement already satisfied: sniffio in /usr/local/lib/python3.7/dist-packages (from httpx==0.13.3->googletrans==3.1.0a0) (1.2.0)\n",
            "Requirement already satisfied: idna==2.* in /usr/local/lib/python3.7/dist-packages (from httpx==0.13.3->googletrans==3.1.0a0) (2.10)\n",
            "Requirement already satisfied: rfc3986<2,>=1.3 in /usr/local/lib/python3.7/dist-packages (from httpx==0.13.3->googletrans==3.1.0a0) (1.5.0)\n",
            "Requirement already satisfied: chardet==3.* in /usr/local/lib/python3.7/dist-packages (from httpx==0.13.3->googletrans==3.1.0a0) (3.0.4)\n",
            "Requirement already satisfied: hstspreload in /usr/local/lib/python3.7/dist-packages (from httpx==0.13.3->googletrans==3.1.0a0) (2021.9.1)\n",
            "Requirement already satisfied: certifi in /usr/local/lib/python3.7/dist-packages (from httpx==0.13.3->googletrans==3.1.0a0) (2021.5.30)\n",
            "Requirement already satisfied: h2==3.* in /usr/local/lib/python3.7/dist-packages (from httpcore==0.9.*->httpx==0.13.3->googletrans==3.1.0a0) (3.2.0)\n",
            "Requirement already satisfied: h11<0.10,>=0.8 in /usr/local/lib/python3.7/dist-packages (from httpcore==0.9.*->httpx==0.13.3->googletrans==3.1.0a0) (0.9.0)\n",
            "Requirement already satisfied: hyperframe<6,>=5.2.0 in /usr/local/lib/python3.7/dist-packages (from h2==3.*->httpcore==0.9.*->httpx==0.13.3->googletrans==3.1.0a0) (5.2.0)\n",
            "Requirement already satisfied: hpack<4,>=3.0 in /usr/local/lib/python3.7/dist-packages (from h2==3.*->httpcore==0.9.*->httpx==0.13.3->googletrans==3.1.0a0) (3.0.0)\n"
          ]
        }
      ]
    },
    {
      "cell_type": "code",
      "metadata": {
        "id": "hqvsysbDn3ep"
      },
      "source": [
        "tamil_lis=['அ','ஆ','இ','ஈ','உ','ஊ','எ','ஏ','ஐ','ஒ','ஓ','ஔ','ஃ']"
      ],
      "execution_count": null,
      "outputs": []
    },
    {
      "cell_type": "code",
      "metadata": {
        "id": "asZ88vXDn5hb"
      },
      "source": [
        "def tamil_letters(lis):\n",
        "  tam_fun_lis=[]\n",
        "  for i in lis:\n",
        "    if i=='001':\n",
        "      tam_fun_lis.append(tamil_lis[0])\n",
        "    elif i=='002':\n",
        "      tam_fun_lis.append(tamil_lis[1])\n",
        "    elif i=='003':\n",
        "      tam_fun_lis.append(tamil_lis[2])\n",
        "    elif i=='004':\n",
        "      tam_fun_lis.append(tamil_lis[3])\n",
        "    elif i=='005':\n",
        "      tam_fun_lis.append(tamil_lis[4])\n",
        "    elif i=='006':\n",
        "      tam_fun_lis.append(tamil_lis[5])\n",
        "    elif i=='007':\n",
        "      tam_fun_lis.append(tamil_lis[6])\n",
        "    elif i=='008':\n",
        "      tam_fun_lis.append(tamil_lis[7])\n",
        "    elif i=='009':\n",
        "      tam_fun_lis.append(tamil_lis[8])\n",
        "    elif i=='010':\n",
        "      tam_fun_lis.append(tamil_lis[9])\n",
        "    elif i=='011':\n",
        "      tam_fun_lis.append(tamil_lis[10])\n",
        "    elif i=='012':\n",
        "      tam_fun_lis.append(tamil_lis[11])\n",
        "    elif i=='013':\n",
        "      tam_fun_lis.append(tamil_lis[12])\n",
        "  return tam_fun_lis\n"
      ],
      "execution_count": null,
      "outputs": []
    },
    {
      "cell_type": "code",
      "metadata": {
        "id": "Cgwk2Fqyn-aB"
      },
      "source": [
        "def word(lis):\n",
        "  word=''\n",
        "  for i in lis:\n",
        "    word=word+i\n",
        "  return word"
      ],
      "execution_count": null,
      "outputs": []
    },
    {
      "cell_type": "code",
      "metadata": {
        "id": "fP2BxOY4q61J"
      },
      "source": [
        "from googletrans import Translator"
      ],
      "execution_count": null,
      "outputs": []
    },
    {
      "cell_type": "code",
      "metadata": {
        "id": "koL7tQ-Nq_-A"
      },
      "source": [
        "translator=Translator()"
      ],
      "execution_count": null,
      "outputs": []
    },
    {
      "cell_type": "code",
      "metadata": {
        "id": "Mq3uNFkyrgHz"
      },
      "source": [
        "def find_tamil(img):\n",
        "  pred = model(img)\n",
        "  df=pred.pandas().xyxy[0]\n",
        "  df=df.sort_values(\"xmin\")\n",
        "  lis=df[\"name\"].values.tolist()\n",
        "  tam_lis= tamil_letters(lis)\n",
        "  wrd=word(tam_lis)\n",
        "  out=translator.translate(wrd,dest=\"en\")\n",
        "  return wrd,out.text\n"
      ],
      "execution_count": null,
      "outputs": []
    },
    {
      "cell_type": "code",
      "metadata": {
        "id": "gkBrKhp-sKCl"
      },
      "source": [
        "img1 = Image.open('/content/test.jpg')\n",
        "ans=find_tamil(img1)"
      ],
      "execution_count": null,
      "outputs": []
    },
    {
      "cell_type": "code",
      "metadata": {
        "id": "4Z-EXHn-sPIF",
        "colab": {
          "base_uri": "https://localhost:8080/"
        },
        "outputId": "21914e15-caff-4143-83bc-6be2d18be7b1"
      },
      "source": [
        "ans"
      ],
      "execution_count": null,
      "outputs": [
        {
          "output_type": "execute_result",
          "data": {
            "text/plain": [
              "('ஆ', 'Cow')"
            ]
          },
          "metadata": {},
          "execution_count": 12
        }
      ]
    }
  ]
}